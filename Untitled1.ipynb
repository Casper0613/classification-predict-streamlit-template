{
  "nbformat": 4,
  "nbformat_minor": 5,
  "metadata": {
    "kernelspec": {
      "display_name": "Python 3",
      "language": "python",
      "name": "python3"
    },
    "language_info": {
      "codemirror_mode": {
        "name": "ipython",
        "version": 3
      },
      "file_extension": ".py",
      "mimetype": "text/x-python",
      "name": "python",
      "nbconvert_exporter": "python",
      "pygments_lexer": "ipython3",
      "version": "3.8.8"
    },
    "colab": {
      "name": "Untitled1.ipynb",
      "provenance": []
    }
  },
  "cells": [
    {
      "cell_type": "code",
      "metadata": {
        "id": "1d92fa99",
        "outputId": "7324e7c5-c05e-42d4-a856-667b74f70211",
        "colab": {
          "base_uri": "https://localhost:8080/"
        }
      },
      "source": [
        "# Libraries for data loading, data manipulation and data visulisation\n",
        "import numpy as np\n",
        "import pandas as pd\n",
        "#\n",
        "import string\n",
        "import matplotlib.pyplot as plt\n",
        "from matplotlib import rc\n",
        "import seaborn as sns\n",
        "from statsmodels.graphics.correlation import plot_corr\n",
        "from scipy.stats import skew\n",
        "from scipy.stats import kurtosis\n",
        "import statistics\n",
        "\n",
        "# datetime\n",
        "import datetime\n",
        "\n",
        "# Libraries for data preparation and model building\n",
        "from sklearn.pipeline import Pipeline\n",
        "import statsmodels.formula.api as sm\n",
        "from statsmodels.formula.api import ols\n",
        "from sklearn import metrics\n",
        "from sklearn.svm import SVC\n",
        "from sklearn.model_selection import train_test_split, GridSearchCV\n",
        "from sklearn.linear_model import LogisticRegression\n",
        "from sklearn.tree import DecisionTreeClassifier\n",
        "from sklearn.metrics import f1_score, precision_score, recall_score, confusion_matrix, accuracy_score\n",
        "from sklearn.model_selection import cross_val_score\n",
        "from sklearn.model_selection import RepeatedKFold\n",
        "from sklearn.feature_selection import RFE\n",
        "from sklearn.feature_selection import RFECV\n",
        "from sklearn.feature_selection import SelectKBest, chi2\n",
        "from sklearn.feature_extraction.text import CountVectorizer\n",
        "from scipy.stats import boxcox, zscore\n",
        "from sklearn.metrics import mean_squared_error\n",
        "from sklearn.tree import DecisionTreeRegressor\n",
        "from sklearn.compose import ColumnTransformer\n",
        "from sklearn.model_selection import train_test_split, KFold, cross_val_score, GridSearchCV\n",
        "from sklearn.preprocessing import LabelEncoder, OneHotEncoder, StandardScaler, PolynomialFeatures\n",
        "\n",
        "# saving my model\n",
        "import pickle\n",
        "\n",
        "#ignoring warnings\n",
        "import warnings\n",
        "warnings.filterwarnings('ignore')\n"
      ],
      "id": "1d92fa99",
      "execution_count": 1,
      "outputs": [
        {
          "output_type": "stream",
          "name": "stderr",
          "text": [
            "/usr/local/lib/python3.7/dist-packages/statsmodels/tools/_testing.py:19: FutureWarning: pandas.util.testing is deprecated. Use the functions in the public API at pandas.testing instead.\n",
            "  import pandas.util.testing as tm\n"
          ]
        }
      ]
    },
    {
      "cell_type": "code",
      "metadata": {
        "id": "7d571bf8"
      },
      "source": [
        "#making sure that we can see all rows and cols\n",
        "pd.set_option('display.max_columns', None)\n",
        "pd.set_option('display.max_rows', None)\n",
        "pd.set_option('display.max_colwidth', None)"
      ],
      "id": "7d571bf8",
      "execution_count": 2,
      "outputs": []
    },
    {
      "cell_type": "code",
      "metadata": {
        "id": "de037fb6"
      },
      "source": [
        ""
      ],
      "id": "de037fb6",
      "execution_count": null,
      "outputs": []
    },
    {
      "cell_type": "code",
      "metadata": {
        "id": "f0fc67ae",
        "outputId": "1c874e2d-ecf0-44e1-a7a8-b08c568c64a2",
        "colab": {
          "base_uri": "https://localhost:8080/",
          "height": 502
        }
      },
      "source": [
        "df_train = pd.read_csv('https://github.com/kwanda2426/classification-predict-streamlit-template/blob/master/resources/train.csv')\n",
        "df_test = pd.read_csv('https://github.com/kwanda2426/classification-predict-streamlit-template/blob/master/resources/test_with_no_labels.csv')"
      ],
      "id": "f0fc67ae",
      "execution_count": 4,
      "outputs": [
        {
          "output_type": "error",
          "ename": "ParserError",
          "evalue": "ignored",
          "traceback": [
            "\u001b[0;31m---------------------------------------------------------------------------\u001b[0m",
            "\u001b[0;31mParserError\u001b[0m                               Traceback (most recent call last)",
            "\u001b[0;32m<ipython-input-4-38801b43623f>\u001b[0m in \u001b[0;36m<module>\u001b[0;34m()\u001b[0m\n\u001b[0;32m----> 1\u001b[0;31m \u001b[0mdf_train\u001b[0m \u001b[0;34m=\u001b[0m \u001b[0mpd\u001b[0m\u001b[0;34m.\u001b[0m\u001b[0mread_csv\u001b[0m\u001b[0;34m(\u001b[0m\u001b[0;34m'https://github.com/kwanda2426/classification-predict-streamlit-template/blob/master/resources/train.csv'\u001b[0m\u001b[0;34m)\u001b[0m\u001b[0;34m\u001b[0m\u001b[0;34m\u001b[0m\u001b[0m\n\u001b[0m\u001b[1;32m      2\u001b[0m \u001b[0mdf_test\u001b[0m \u001b[0;34m=\u001b[0m \u001b[0mpd\u001b[0m\u001b[0;34m.\u001b[0m\u001b[0mread_csv\u001b[0m\u001b[0;34m(\u001b[0m\u001b[0;34m'https://github.com/kwanda2426/classification-predict-streamlit-template/blob/master/resources/test_with_no_labels.csv'\u001b[0m\u001b[0;34m)\u001b[0m\u001b[0;34m\u001b[0m\u001b[0;34m\u001b[0m\u001b[0m\n",
            "\u001b[0;32m/usr/local/lib/python3.7/dist-packages/pandas/io/parsers.py\u001b[0m in \u001b[0;36mread_csv\u001b[0;34m(filepath_or_buffer, sep, delimiter, header, names, index_col, usecols, squeeze, prefix, mangle_dupe_cols, dtype, engine, converters, true_values, false_values, skipinitialspace, skiprows, skipfooter, nrows, na_values, keep_default_na, na_filter, verbose, skip_blank_lines, parse_dates, infer_datetime_format, keep_date_col, date_parser, dayfirst, cache_dates, iterator, chunksize, compression, thousands, decimal, lineterminator, quotechar, quoting, doublequote, escapechar, comment, encoding, dialect, error_bad_lines, warn_bad_lines, delim_whitespace, low_memory, memory_map, float_precision)\u001b[0m\n\u001b[1;32m    686\u001b[0m     )\n\u001b[1;32m    687\u001b[0m \u001b[0;34m\u001b[0m\u001b[0m\n\u001b[0;32m--> 688\u001b[0;31m     \u001b[0;32mreturn\u001b[0m \u001b[0m_read\u001b[0m\u001b[0;34m(\u001b[0m\u001b[0mfilepath_or_buffer\u001b[0m\u001b[0;34m,\u001b[0m \u001b[0mkwds\u001b[0m\u001b[0;34m)\u001b[0m\u001b[0;34m\u001b[0m\u001b[0;34m\u001b[0m\u001b[0m\n\u001b[0m\u001b[1;32m    689\u001b[0m \u001b[0;34m\u001b[0m\u001b[0m\n\u001b[1;32m    690\u001b[0m \u001b[0;34m\u001b[0m\u001b[0m\n",
            "\u001b[0;32m/usr/local/lib/python3.7/dist-packages/pandas/io/parsers.py\u001b[0m in \u001b[0;36m_read\u001b[0;34m(filepath_or_buffer, kwds)\u001b[0m\n\u001b[1;32m    458\u001b[0m \u001b[0;34m\u001b[0m\u001b[0m\n\u001b[1;32m    459\u001b[0m     \u001b[0;32mtry\u001b[0m\u001b[0;34m:\u001b[0m\u001b[0;34m\u001b[0m\u001b[0;34m\u001b[0m\u001b[0m\n\u001b[0;32m--> 460\u001b[0;31m         \u001b[0mdata\u001b[0m \u001b[0;34m=\u001b[0m \u001b[0mparser\u001b[0m\u001b[0;34m.\u001b[0m\u001b[0mread\u001b[0m\u001b[0;34m(\u001b[0m\u001b[0mnrows\u001b[0m\u001b[0;34m)\u001b[0m\u001b[0;34m\u001b[0m\u001b[0;34m\u001b[0m\u001b[0m\n\u001b[0m\u001b[1;32m    461\u001b[0m     \u001b[0;32mfinally\u001b[0m\u001b[0;34m:\u001b[0m\u001b[0;34m\u001b[0m\u001b[0;34m\u001b[0m\u001b[0m\n\u001b[1;32m    462\u001b[0m         \u001b[0mparser\u001b[0m\u001b[0;34m.\u001b[0m\u001b[0mclose\u001b[0m\u001b[0;34m(\u001b[0m\u001b[0;34m)\u001b[0m\u001b[0;34m\u001b[0m\u001b[0;34m\u001b[0m\u001b[0m\n",
            "\u001b[0;32m/usr/local/lib/python3.7/dist-packages/pandas/io/parsers.py\u001b[0m in \u001b[0;36mread\u001b[0;34m(self, nrows)\u001b[0m\n\u001b[1;32m   1196\u001b[0m     \u001b[0;32mdef\u001b[0m \u001b[0mread\u001b[0m\u001b[0;34m(\u001b[0m\u001b[0mself\u001b[0m\u001b[0;34m,\u001b[0m \u001b[0mnrows\u001b[0m\u001b[0;34m=\u001b[0m\u001b[0;32mNone\u001b[0m\u001b[0;34m)\u001b[0m\u001b[0;34m:\u001b[0m\u001b[0;34m\u001b[0m\u001b[0;34m\u001b[0m\u001b[0m\n\u001b[1;32m   1197\u001b[0m         \u001b[0mnrows\u001b[0m \u001b[0;34m=\u001b[0m \u001b[0m_validate_integer\u001b[0m\u001b[0;34m(\u001b[0m\u001b[0;34m\"nrows\"\u001b[0m\u001b[0;34m,\u001b[0m \u001b[0mnrows\u001b[0m\u001b[0;34m)\u001b[0m\u001b[0;34m\u001b[0m\u001b[0;34m\u001b[0m\u001b[0m\n\u001b[0;32m-> 1198\u001b[0;31m         \u001b[0mret\u001b[0m \u001b[0;34m=\u001b[0m \u001b[0mself\u001b[0m\u001b[0;34m.\u001b[0m\u001b[0m_engine\u001b[0m\u001b[0;34m.\u001b[0m\u001b[0mread\u001b[0m\u001b[0;34m(\u001b[0m\u001b[0mnrows\u001b[0m\u001b[0;34m)\u001b[0m\u001b[0;34m\u001b[0m\u001b[0;34m\u001b[0m\u001b[0m\n\u001b[0m\u001b[1;32m   1199\u001b[0m \u001b[0;34m\u001b[0m\u001b[0m\n\u001b[1;32m   1200\u001b[0m         \u001b[0;31m# May alter columns / col_dict\u001b[0m\u001b[0;34m\u001b[0m\u001b[0;34m\u001b[0m\u001b[0;34m\u001b[0m\u001b[0m\n",
            "\u001b[0;32m/usr/local/lib/python3.7/dist-packages/pandas/io/parsers.py\u001b[0m in \u001b[0;36mread\u001b[0;34m(self, nrows)\u001b[0m\n\u001b[1;32m   2155\u001b[0m     \u001b[0;32mdef\u001b[0m \u001b[0mread\u001b[0m\u001b[0;34m(\u001b[0m\u001b[0mself\u001b[0m\u001b[0;34m,\u001b[0m \u001b[0mnrows\u001b[0m\u001b[0;34m=\u001b[0m\u001b[0;32mNone\u001b[0m\u001b[0;34m)\u001b[0m\u001b[0;34m:\u001b[0m\u001b[0;34m\u001b[0m\u001b[0;34m\u001b[0m\u001b[0m\n\u001b[1;32m   2156\u001b[0m         \u001b[0;32mtry\u001b[0m\u001b[0;34m:\u001b[0m\u001b[0;34m\u001b[0m\u001b[0;34m\u001b[0m\u001b[0m\n\u001b[0;32m-> 2157\u001b[0;31m             \u001b[0mdata\u001b[0m \u001b[0;34m=\u001b[0m \u001b[0mself\u001b[0m\u001b[0;34m.\u001b[0m\u001b[0m_reader\u001b[0m\u001b[0;34m.\u001b[0m\u001b[0mread\u001b[0m\u001b[0;34m(\u001b[0m\u001b[0mnrows\u001b[0m\u001b[0;34m)\u001b[0m\u001b[0;34m\u001b[0m\u001b[0;34m\u001b[0m\u001b[0m\n\u001b[0m\u001b[1;32m   2158\u001b[0m         \u001b[0;32mexcept\u001b[0m \u001b[0mStopIteration\u001b[0m\u001b[0;34m:\u001b[0m\u001b[0;34m\u001b[0m\u001b[0;34m\u001b[0m\u001b[0m\n\u001b[1;32m   2159\u001b[0m             \u001b[0;32mif\u001b[0m \u001b[0mself\u001b[0m\u001b[0;34m.\u001b[0m\u001b[0m_first_chunk\u001b[0m\u001b[0;34m:\u001b[0m\u001b[0;34m\u001b[0m\u001b[0;34m\u001b[0m\u001b[0m\n",
            "\u001b[0;32mpandas/_libs/parsers.pyx\u001b[0m in \u001b[0;36mpandas._libs.parsers.TextReader.read\u001b[0;34m()\u001b[0m\n",
            "\u001b[0;32mpandas/_libs/parsers.pyx\u001b[0m in \u001b[0;36mpandas._libs.parsers.TextReader._read_low_memory\u001b[0;34m()\u001b[0m\n",
            "\u001b[0;32mpandas/_libs/parsers.pyx\u001b[0m in \u001b[0;36mpandas._libs.parsers.TextReader._read_rows\u001b[0;34m()\u001b[0m\n",
            "\u001b[0;32mpandas/_libs/parsers.pyx\u001b[0m in \u001b[0;36mpandas._libs.parsers.TextReader._tokenize_rows\u001b[0;34m()\u001b[0m\n",
            "\u001b[0;32mpandas/_libs/parsers.pyx\u001b[0m in \u001b[0;36mpandas._libs.parsers.raise_parser_error\u001b[0;34m()\u001b[0m\n",
            "\u001b[0;31mParserError\u001b[0m: Error tokenizing data. C error: Expected 1 fields in line 122, saw 2\n"
          ]
        }
      ]
    },
    {
      "cell_type": "code",
      "metadata": {
        "id": "e4c39a23"
      },
      "source": [
        "pattern_url = r'http[s]?://(?:[A-Za-z]|[0-9]|[$-_@.&+]|[!*\\(\\),]|(?:%[0-9A-Fa-f][0-9A-Fa-f]))+'\n",
        "subs_url = r'url-web'\n",
        "df_train['message'] = df_train['message'].replace(to_replace = pattern_url, value = subs_url, regex = True)"
      ],
      "id": "e4c39a23",
      "execution_count": null,
      "outputs": []
    },
    {
      "cell_type": "code",
      "metadata": {
        "id": "ec70279e"
      },
      "source": [
        "def lower_case(df, column_name):\n",
        "    \n",
        "    df[column_name] = df[column_name].str.lower()\n",
        "    \n",
        "    return df"
      ],
      "id": "ec70279e",
      "execution_count": null,
      "outputs": []
    },
    {
      "cell_type": "code",
      "metadata": {
        "id": "0bf66c02",
        "outputId": "f82ce206-ceb4-46b1-f613-2d8559208301"
      },
      "source": [
        "lower_case(df_train, 'message').head()"
      ],
      "id": "0bf66c02",
      "execution_count": null,
      "outputs": [
        {
          "data": {
            "text/html": [
              "<div>\n",
              "<style scoped>\n",
              "    .dataframe tbody tr th:only-of-type {\n",
              "        vertical-align: middle;\n",
              "    }\n",
              "\n",
              "    .dataframe tbody tr th {\n",
              "        vertical-align: top;\n",
              "    }\n",
              "\n",
              "    .dataframe thead th {\n",
              "        text-align: right;\n",
              "    }\n",
              "</style>\n",
              "<table border=\"1\" class=\"dataframe\">\n",
              "  <thead>\n",
              "    <tr style=\"text-align: right;\">\n",
              "      <th></th>\n",
              "      <th>sentiment</th>\n",
              "      <th>message</th>\n",
              "      <th>tweetid</th>\n",
              "    </tr>\n",
              "  </thead>\n",
              "  <tbody>\n",
              "    <tr>\n",
              "      <th>0</th>\n",
              "      <td>1</td>\n",
              "      <td>polyscimajor epa chief doesn't think carbon dioxide is main cause of global warming and.. wait, what!? url-web via @mashable</td>\n",
              "      <td>625221</td>\n",
              "    </tr>\n",
              "    <tr>\n",
              "      <th>1</th>\n",
              "      <td>1</td>\n",
              "      <td>it's not like we lack evidence of anthropogenic global warming</td>\n",
              "      <td>126103</td>\n",
              "    </tr>\n",
              "    <tr>\n",
              "      <th>2</th>\n",
              "      <td>2</td>\n",
              "      <td>rt @rawstory: researchers say we have three years to act on climate change before it’s too late url-web url-web…</td>\n",
              "      <td>698562</td>\n",
              "    </tr>\n",
              "    <tr>\n",
              "      <th>3</th>\n",
              "      <td>1</td>\n",
              "      <td>#todayinmaker# wired : 2016 was a pivotal year in the war on climate change url-web</td>\n",
              "      <td>573736</td>\n",
              "    </tr>\n",
              "    <tr>\n",
              "      <th>4</th>\n",
              "      <td>1</td>\n",
              "      <td>rt @soynoviodetodas: it's 2016, and a racist, sexist, climate change denying bigot is leading in the polls. #electionnight</td>\n",
              "      <td>466954</td>\n",
              "    </tr>\n",
              "  </tbody>\n",
              "</table>\n",
              "</div>"
            ],
            "text/plain": [
              "   sentiment  \\\n",
              "0          1   \n",
              "1          1   \n",
              "2          2   \n",
              "3          1   \n",
              "4          1   \n",
              "\n",
              "                                                                                                                        message  \\\n",
              "0  polyscimajor epa chief doesn't think carbon dioxide is main cause of global warming and.. wait, what!? url-web via @mashable   \n",
              "1                                                                it's not like we lack evidence of anthropogenic global warming   \n",
              "2              rt @rawstory: researchers say we have three years to act on climate change before it’s too late url-web url-web…   \n",
              "3                                           #todayinmaker# wired : 2016 was a pivotal year in the war on climate change url-web   \n",
              "4    rt @soynoviodetodas: it's 2016, and a racist, sexist, climate change denying bigot is leading in the polls. #electionnight   \n",
              "\n",
              "   tweetid  \n",
              "0   625221  \n",
              "1   126103  \n",
              "2   698562  \n",
              "3   573736  \n",
              "4   466954  "
            ]
          },
          "execution_count": 59,
          "metadata": {},
          "output_type": "execute_result"
        }
      ]
    },
    {
      "cell_type": "code",
      "metadata": {
        "id": "8f1bc75a"
      },
      "source": [
        "def lookup_dict(text, dictionary):\n",
        "    \n",
        "    for word in text.split():\n",
        "        \n",
        "        if word in dictionary:\n",
        "            \n",
        "            if word in text.split():\n",
        "                \n",
        "                text = text.replace(word, dictionary[word])\n",
        "                \n",
        "    return text"
      ],
      "id": "8f1bc75a",
      "execution_count": null,
      "outputs": []
    },
    {
      "cell_type": "code",
      "metadata": {
        "id": "5c7a6c88"
      },
      "source": [
        "contractions = {\"doesn't\" : 'does not','wouldn\\'t': 'would not','it\\'s' : 'it is',\n",
        "               'i\\'m': 'i am', 'we\\'re' : 'we are','i\\'ve':'i have','let\\'s' : 'let us',\n",
        "               'couldn\\'t' : 'could not','don\\'t' : 'do not', 'lol' : 'laugh out loud',\n",
        "               'ftl': 'for the loss', 'fwiw': 'for what it is worth', 'imo' : 'in my opinion',\n",
        "               'diaf': 'die in a fire','dm': 'direct message', 'afaik':'as far as i know',\n",
        "               'imho': 'in my humble opinion', 'tbh': 'to be honest','icymi': 'in case you missed it',\n",
        "               'idk': 'i do not know', 'mt': 'modified tweet', 'smh':'shaking my head',\n",
        "               'smdh':'shaking my damn head','nts':'note to self','ifykyk':'if you know, you know',\n",
        "               'ijs':'i am just saying', 'tbqh':'to be quite honest','fyi':'for your information',\n",
        "               'idc':'i do not care','hth':'happy to help', 'hth':'hear to help','hifw':'how i feel when',\n",
        "               'we\\'ve':'we have','i\\'d':'i would', 'i\\'ll':'i will'}"
      ],
      "id": "5c7a6c88",
      "execution_count": null,
      "outputs": []
    },
    {
      "cell_type": "code",
      "metadata": {
        "id": "2049a0f9"
      },
      "source": [
        "df_train['clean_message'] = df_train['message'].apply(lambda x: lookup_dict(x, contractions))"
      ],
      "id": "2049a0f9",
      "execution_count": null,
      "outputs": []
    },
    {
      "cell_type": "code",
      "metadata": {
        "id": "9d3f2af7",
        "outputId": "e4e161ca-9061-4e97-fd95-8596e99aae76"
      },
      "source": [
        "df_train.head()"
      ],
      "id": "9d3f2af7",
      "execution_count": null,
      "outputs": [
        {
          "data": {
            "text/html": [
              "<div>\n",
              "<style scoped>\n",
              "    .dataframe tbody tr th:only-of-type {\n",
              "        vertical-align: middle;\n",
              "    }\n",
              "\n",
              "    .dataframe tbody tr th {\n",
              "        vertical-align: top;\n",
              "    }\n",
              "\n",
              "    .dataframe thead th {\n",
              "        text-align: right;\n",
              "    }\n",
              "</style>\n",
              "<table border=\"1\" class=\"dataframe\">\n",
              "  <thead>\n",
              "    <tr style=\"text-align: right;\">\n",
              "      <th></th>\n",
              "      <th>sentiment</th>\n",
              "      <th>message</th>\n",
              "      <th>tweetid</th>\n",
              "      <th>clean_message</th>\n",
              "    </tr>\n",
              "  </thead>\n",
              "  <tbody>\n",
              "    <tr>\n",
              "      <th>0</th>\n",
              "      <td>1</td>\n",
              "      <td>polyscimajor epa chief doesnt think carbon dioxide is main cause of global warming and wait what urlweb via mashable</td>\n",
              "      <td>625221</td>\n",
              "      <td>polyscimajor epa chief doesnt think carbon dioxide is main cause of global warming and wait what urlweb via mashable</td>\n",
              "    </tr>\n",
              "    <tr>\n",
              "      <th>1</th>\n",
              "      <td>1</td>\n",
              "      <td>its not like we lack evidence of anthropogenic global warming</td>\n",
              "      <td>126103</td>\n",
              "      <td>its not like we lack evidence of anthropogenic global warming</td>\n",
              "    </tr>\n",
              "    <tr>\n",
              "      <th>2</th>\n",
              "      <td>2</td>\n",
              "      <td>rt rawstory researchers say we have three years to act on climate change before it’s too late urlweb urlweb…</td>\n",
              "      <td>698562</td>\n",
              "      <td>rt rawstory researchers say we have three years to act on climate change before it’s too late urlweb urlweb…</td>\n",
              "    </tr>\n",
              "    <tr>\n",
              "      <th>3</th>\n",
              "      <td>1</td>\n",
              "      <td>todayinmaker wired  2016 was a pivotal year in the war on climate change urlweb</td>\n",
              "      <td>573736</td>\n",
              "      <td>todayinmaker wired  2016 was a pivotal year in the war on climate change urlweb</td>\n",
              "    </tr>\n",
              "    <tr>\n",
              "      <th>4</th>\n",
              "      <td>1</td>\n",
              "      <td>rt soynoviodetodas its 2016 and a racist sexist climate change denying bigot is leading in the polls electionnight</td>\n",
              "      <td>466954</td>\n",
              "      <td>rt soynoviodetodas its 2016 and a racist sexist climate change denying bigot is leading in the polls electionnight</td>\n",
              "    </tr>\n",
              "  </tbody>\n",
              "</table>\n",
              "</div>"
            ],
            "text/plain": [
              "   sentiment  \\\n",
              "0          1   \n",
              "1          1   \n",
              "2          2   \n",
              "3          1   \n",
              "4          1   \n",
              "\n",
              "                                                                                                                message  \\\n",
              "0  polyscimajor epa chief doesnt think carbon dioxide is main cause of global warming and wait what urlweb via mashable   \n",
              "1                                                         its not like we lack evidence of anthropogenic global warming   \n",
              "2          rt rawstory researchers say we have three years to act on climate change before it’s too late urlweb urlweb…   \n",
              "3                                       todayinmaker wired  2016 was a pivotal year in the war on climate change urlweb   \n",
              "4    rt soynoviodetodas its 2016 and a racist sexist climate change denying bigot is leading in the polls electionnight   \n",
              "\n",
              "   tweetid  \\\n",
              "0   625221   \n",
              "1   126103   \n",
              "2   698562   \n",
              "3   573736   \n",
              "4   466954   \n",
              "\n",
              "                                                                                                          clean_message  \n",
              "0  polyscimajor epa chief doesnt think carbon dioxide is main cause of global warming and wait what urlweb via mashable  \n",
              "1                                                         its not like we lack evidence of anthropogenic global warming  \n",
              "2          rt rawstory researchers say we have three years to act on climate change before it’s too late urlweb urlweb…  \n",
              "3                                       todayinmaker wired  2016 was a pivotal year in the war on climate change urlweb  \n",
              "4    rt soynoviodetodas its 2016 and a racist sexist climate change denying bigot is leading in the polls electionnight  "
            ]
          },
          "execution_count": 103,
          "metadata": {},
          "output_type": "execute_result"
        }
      ]
    },
    {
      "cell_type": "code",
      "metadata": {
        "id": "71f49524"
      },
      "source": [
        ""
      ],
      "id": "71f49524",
      "execution_count": null,
      "outputs": []
    },
    {
      "cell_type": "code",
      "metadata": {
        "id": "ab943753"
      },
      "source": [
        ""
      ],
      "id": "ab943753",
      "execution_count": null,
      "outputs": []
    },
    {
      "cell_type": "code",
      "metadata": {
        "id": "846bd6f5"
      },
      "source": [
        "def remove_punctuation(message):\n",
        "    return ''.join([l for l in message if l not in string.punctuation])"
      ],
      "id": "846bd6f5",
      "execution_count": null,
      "outputs": []
    },
    {
      "cell_type": "code",
      "metadata": {
        "id": "5a1dbbd7"
      },
      "source": [
        "df_train['message'] = df_train['message'].apply(remove_punctuation)"
      ],
      "id": "5a1dbbd7",
      "execution_count": null,
      "outputs": []
    },
    {
      "cell_type": "code",
      "metadata": {
        "id": "cd0a2c29",
        "outputId": "9bf54134-873b-42c5-e733-6c9621112b78"
      },
      "source": [
        "df_train.head()"
      ],
      "id": "cd0a2c29",
      "execution_count": null,
      "outputs": [
        {
          "data": {
            "text/html": [
              "<div>\n",
              "<style scoped>\n",
              "    .dataframe tbody tr th:only-of-type {\n",
              "        vertical-align: middle;\n",
              "    }\n",
              "\n",
              "    .dataframe tbody tr th {\n",
              "        vertical-align: top;\n",
              "    }\n",
              "\n",
              "    .dataframe thead th {\n",
              "        text-align: right;\n",
              "    }\n",
              "</style>\n",
              "<table border=\"1\" class=\"dataframe\">\n",
              "  <thead>\n",
              "    <tr style=\"text-align: right;\">\n",
              "      <th></th>\n",
              "      <th>sentiment</th>\n",
              "      <th>message</th>\n",
              "      <th>tweetid</th>\n",
              "    </tr>\n",
              "  </thead>\n",
              "  <tbody>\n",
              "    <tr>\n",
              "      <th>0</th>\n",
              "      <td>1</td>\n",
              "      <td>polyscimajor epa chief doesnt think carbon dioxide is main cause of global warming and wait what urlweb via mashable</td>\n",
              "      <td>625221</td>\n",
              "    </tr>\n",
              "    <tr>\n",
              "      <th>1</th>\n",
              "      <td>1</td>\n",
              "      <td>its not like we lack evidence of anthropogenic global warming</td>\n",
              "      <td>126103</td>\n",
              "    </tr>\n",
              "    <tr>\n",
              "      <th>2</th>\n",
              "      <td>2</td>\n",
              "      <td>rt rawstory researchers say we have three years to act on climate change before it’s too late urlweb urlweb…</td>\n",
              "      <td>698562</td>\n",
              "    </tr>\n",
              "    <tr>\n",
              "      <th>3</th>\n",
              "      <td>1</td>\n",
              "      <td>todayinmaker wired  2016 was a pivotal year in the war on climate change urlweb</td>\n",
              "      <td>573736</td>\n",
              "    </tr>\n",
              "    <tr>\n",
              "      <th>4</th>\n",
              "      <td>1</td>\n",
              "      <td>rt soynoviodetodas its 2016 and a racist sexist climate change denying bigot is leading in the polls electionnight</td>\n",
              "      <td>466954</td>\n",
              "    </tr>\n",
              "  </tbody>\n",
              "</table>\n",
              "</div>"
            ],
            "text/plain": [
              "   sentiment  \\\n",
              "0          1   \n",
              "1          1   \n",
              "2          2   \n",
              "3          1   \n",
              "4          1   \n",
              "\n",
              "                                                                                                                message  \\\n",
              "0  polyscimajor epa chief doesnt think carbon dioxide is main cause of global warming and wait what urlweb via mashable   \n",
              "1                                                         its not like we lack evidence of anthropogenic global warming   \n",
              "2          rt rawstory researchers say we have three years to act on climate change before it’s too late urlweb urlweb…   \n",
              "3                                       todayinmaker wired  2016 was a pivotal year in the war on climate change urlweb   \n",
              "4    rt soynoviodetodas its 2016 and a racist sexist climate change denying bigot is leading in the polls electionnight   \n",
              "\n",
              "   tweetid  \n",
              "0   625221  \n",
              "1   126103  \n",
              "2   698562  \n",
              "3   573736  \n",
              "4   466954  "
            ]
          },
          "execution_count": 62,
          "metadata": {},
          "output_type": "execute_result"
        }
      ]
    },
    {
      "cell_type": "code",
      "metadata": {
        "id": "363856cb"
      },
      "source": [
        "sent_list = []\n",
        "\n",
        "message = []\n",
        "\n",
        "for count in range(0,len(df_train)):\n",
        "    \n",
        "    if df_train['sentiment'][count] == 1:\n",
        "        \n",
        "        sent_list.append(1)\n",
        "        message.append(df_train['message'][count])\n",
        "        \n",
        "    elif df_train['sentiment'].iloc[count] == -1:\n",
        "                   \n",
        "        sent_list.append(1)\n",
        "        message.append(df_train['message'][count])"
      ],
      "id": "363856cb",
      "execution_count": null,
      "outputs": []
    },
    {
      "cell_type": "code",
      "metadata": {
        "id": "22b82471"
      },
      "source": [
        "dict_ = {'sentiment': sent_list,\n",
        "        'message' : message}"
      ],
      "id": "22b82471",
      "execution_count": null,
      "outputs": []
    },
    {
      "cell_type": "code",
      "metadata": {
        "id": "c12b2238"
      },
      "source": [
        "data = pd.DataFrame(dict_)"
      ],
      "id": "c12b2238",
      "execution_count": null,
      "outputs": []
    },
    {
      "cell_type": "code",
      "metadata": {
        "id": "c0667742",
        "outputId": "c22b8b99-0ef1-4704-b17c-d8b789d458b0"
      },
      "source": [
        ""
      ],
      "id": "c0667742",
      "execution_count": null,
      "outputs": [
        {
          "data": {
            "text/html": [
              "<div>\n",
              "<style scoped>\n",
              "    .dataframe tbody tr th:only-of-type {\n",
              "        vertical-align: middle;\n",
              "    }\n",
              "\n",
              "    .dataframe tbody tr th {\n",
              "        vertical-align: top;\n",
              "    }\n",
              "\n",
              "    .dataframe thead th {\n",
              "        text-align: right;\n",
              "    }\n",
              "</style>\n",
              "<table border=\"1\" class=\"dataframe\">\n",
              "  <thead>\n",
              "    <tr style=\"text-align: right;\">\n",
              "      <th></th>\n",
              "      <th>sentiment</th>\n",
              "      <th>message</th>\n",
              "    </tr>\n",
              "  </thead>\n",
              "  <tbody>\n",
              "    <tr>\n",
              "      <th>9821</th>\n",
              "      <td>1</td>\n",
              "      <td>rt stephenschlegel shes thinking about how shes going to die because your husband doesnt believe in climate change urlwebã¢â‚¬â¦</td>\n",
              "    </tr>\n",
              "    <tr>\n",
              "      <th>9822</th>\n",
              "      <td>1</td>\n",
              "      <td>rt sierraclub 2016 hottest year in history also in 2016 182 members of congress denied climate change is real urlweb…</td>\n",
              "    </tr>\n",
              "    <tr>\n",
              "      <th>9823</th>\n",
              "      <td>1</td>\n",
              "      <td>rt thinkprogress epa head falsely claims carbon emissions aren’t the cause of global warming\\nurlweb urlweb…</td>\n",
              "    </tr>\n",
              "    <tr>\n",
              "      <th>9824</th>\n",
              "      <td>1</td>\n",
              "      <td>rt ezlusztig they took down the material on global warming lgbt rights and health care but now theyre hocking melanias qvc https…</td>\n",
              "    </tr>\n",
              "    <tr>\n",
              "      <th>9825</th>\n",
              "      <td>1</td>\n",
              "      <td>rt sara8smiles hey liberals the climate change crap is a hoax that ties to agenda2030\\nthe climate is being changed byã¢â‚¬â¦</td>\n",
              "    </tr>\n",
              "  </tbody>\n",
              "</table>\n",
              "</div>"
            ],
            "text/plain": [
              "      sentiment  \\\n",
              "9821          1   \n",
              "9822          1   \n",
              "9823          1   \n",
              "9824          1   \n",
              "9825          1   \n",
              "\n",
              "                                                                                                                                message  \n",
              "9821   rt stephenschlegel shes thinking about how shes going to die because your husband doesnt believe in climate change urlwebã¢â‚¬â¦  \n",
              "9822              rt sierraclub 2016 hottest year in history also in 2016 182 members of congress denied climate change is real urlweb…  \n",
              "9823                       rt thinkprogress epa head falsely claims carbon emissions aren’t the cause of global warming\\nurlweb urlweb…  \n",
              "9824  rt ezlusztig they took down the material on global warming lgbt rights and health care but now theyre hocking melanias qvc https…  \n",
              "9825      rt sara8smiles hey liberals the climate change crap is a hoax that ties to agenda2030\\nthe climate is being changed byã¢â‚¬â¦  "
            ]
          },
          "execution_count": 90,
          "metadata": {},
          "output_type": "execute_result"
        }
      ]
    },
    {
      "cell_type": "code",
      "metadata": {
        "id": "d51ed57b"
      },
      "source": [
        "df = data.message.values\n",
        "\n",
        "y = data.sentiment.values"
      ],
      "id": "d51ed57b",
      "execution_count": null,
      "outputs": []
    },
    {
      "cell_type": "code",
      "metadata": {
        "id": "8e8fb6a1"
      },
      "source": [
        "x_train, x_test, y_train, y_test = train_test_split(df,\n",
        "                                                    y,\n",
        "                                                   stratify = y, \n",
        "                                                   random_state = 1,\n",
        "                                                   test_size = 0.2,\n",
        "                                                   shuffle = True)"
      ],
      "id": "8e8fb6a1",
      "execution_count": null,
      "outputs": []
    },
    {
      "cell_type": "code",
      "metadata": {
        "id": "bc91679d",
        "outputId": "29744462-d4e8-4d52-ad33-45e9d69f198a"
      },
      "source": [
        "vectorizer = CountVectorizer(binary = True,stop_words = 'english')\n",
        "\n",
        "vectorizer.fit(list(x_train) + list(x_test))"
      ],
      "id": "bc91679d",
      "execution_count": null,
      "outputs": [
        {
          "data": {
            "text/plain": [
              "CountVectorizer(binary=True, stop_words='english')"
            ]
          },
          "execution_count": 91,
          "metadata": {},
          "output_type": "execute_result"
        }
      ]
    },
    {
      "cell_type": "code",
      "metadata": {
        "id": "7d6e78f9"
      },
      "source": [
        "X_train = vectorizer.transform(x_train)\n",
        "X_test = vectorizer.transform(x_test)"
      ],
      "id": "7d6e78f9",
      "execution_count": null,
      "outputs": []
    },
    {
      "cell_type": "code",
      "metadata": {
        "id": "4c60463a"
      },
      "source": [
        "svm = SVC(kernel = 'linear', probability = True)\n",
        "\n",
        "prob = svm.fit(X_train,y_train).predict_proba(X_test)\n",
        "\n",
        "y_pred = svm.predict(X_test)"
      ],
      "id": "4c60463a",
      "execution_count": null,
      "outputs": []
    },
    {
      "cell_type": "code",
      "metadata": {
        "id": "c755a32b"
      },
      "source": [
        "kwanda = f1_score(y_test, y_pred, average='macro')"
      ],
      "id": "c755a32b",
      "execution_count": null,
      "outputs": []
    },
    {
      "cell_type": "code",
      "metadata": {
        "id": "ba012e68",
        "outputId": "8dfd743c-1e02-44d0-ed32-7b3dd4ca2595"
      },
      "source": [
        "kwanda"
      ],
      "id": "ba012e68",
      "execution_count": null,
      "outputs": [
        {
          "data": {
            "text/plain": [
              "0.6682502823227956"
            ]
          },
          "execution_count": 95,
          "metadata": {},
          "output_type": "execute_result"
        }
      ]
    },
    {
      "cell_type": "code",
      "metadata": {
        "id": "67588701"
      },
      "source": [
        ""
      ],
      "id": "67588701",
      "execution_count": null,
      "outputs": []
    },
    {
      "cell_type": "code",
      "metadata": {
        "id": "c1b59111"
      },
      "source": [
        ""
      ],
      "id": "c1b59111",
      "execution_count": null,
      "outputs": []
    }
  ]
}