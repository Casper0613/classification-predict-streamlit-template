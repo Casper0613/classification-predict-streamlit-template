{
  "nbformat": 4,
  "nbformat_minor": 5,
  "metadata": {
    "kernelspec": {
      "display_name": "Python 3",
      "language": "python",
      "name": "python3"
    },
    "language_info": {
      "codemirror_mode": {
        "name": "ipython",
        "version": 3
      },
      "file_extension": ".py",
      "mimetype": "text/x-python",
      "name": "python",
      "nbconvert_exporter": "python",
      "pygments_lexer": "ipython3",
      "version": "3.8.8"
    },
    "colab": {
      "name": "Untitled1.ipynb",
      "provenance": [],
      "include_colab_link": true
    }
  },
  "cells": [
    {
      "cell_type": "markdown",
      "metadata": {
        "id": "view-in-github",
        "colab_type": "text"
      },
      "source": [
        "<a href=\"https://colab.research.google.com/github/kwanda2426/classification-predict-streamlit-template/blob/master/Untitled1.ipynb\" target=\"_parent\"><img src=\"https://colab.research.google.com/assets/colab-badge.svg\" alt=\"Open In Colab\"/></a>"
      ]
    },
    {
      "cell_type": "markdown",
      "metadata": {
        "id": "LAJvSezzqmz_"
      },
      "source": [
        "# 2021/22 Climate Change Belief Analysis Predict\n",
        "\n",
        "## Team 10\n",
        "- Casper Kruger\n",
        "- Gudani Mbedzi\n",
        "- Kwanda Mazibuko\n",
        "- Lucy Zandile Lushaba"
      ],
      "id": "LAJvSezzqmz_"
    },
    {
      "cell_type": "markdown",
      "metadata": {
        "id": "0OaXiw1kqyHg"
      },
      "source": [
        "## Introduction\n",
        "\n",
        "The Glasgow Climate Pact, adopted by almost 200 countries has raised an alarm and concerns that human activities have caused a rise of around 1.1°C of global warming to date. The impact is already being felt around the globe. These developments have been shared with the world through various media outlets. In recent years social media in particular Twitter has risen to be the prefered source of information. This has created a massive source of unstructured of data. This type of data contains a variety of topics and can be anaylsed to find the sentiment behind it.\n",
        "\n",
        "### Problem Statement\n",
        "\n",
        "The developments around global warming and the increase use of social media has forced companies to build products and services around lessen the impact on the environment and the sentiments expressed by their market target on social media platform.\n",
        "Therefore it is important that methods such as sentimental analysis are explored to provide companies with solutions that can provide insights for future marketing strategies thus increasing company profit margins.\n",
        "\n",
        "### Objectives of the Research\n",
        "The key objectives of this project are as follow:\n",
        "\n",
        "- Data analysis to discover the overview of the data\n",
        "- Data cleaning to remove errors and unnecessary data\n",
        "- Exploratory data analysis to discover an in depth view of the data\n",
        "- Build models that can determine a sentiment based on a tweet\n",
        "- Predict the sentiment based on a tweet\n",
        "- Evaluate the accuracy of the best performimg machine learning model"
      ],
      "id": "0OaXiw1kqyHg"
    },
    {
      "cell_type": "markdown",
      "metadata": {
        "id": "I2b022rBrAk_"
      },
      "source": [
        "<a id=\"cont\"></a>\n",
        "\n",
        "## Table of Contents\n",
        "\n",
        "<a href=#one>1. Importing Packages</a>\n",
        "\n",
        "<a href=#two>2. Loading Data</a>\n",
        "\n",
        "<a href=#three>3. Data Preprocessing</a>\n",
        "\n",
        "<a href=#four>4. Exploratory Data Analysis (EDA)</a>\n",
        "\n",
        "<a href=#five>5. Modeling</a>\n",
        "\n",
        "<a href=#six>6. Model Performance</a>\n",
        "\n",
        "<a href=#seven>7. Model Explanations</a>"
      ],
      "id": "I2b022rBrAk_"
    },
    {
      "cell_type": "markdown",
      "metadata": {
        "id": "w6mhGOm_ruAu"
      },
      "source": [
        " <a id=\"one\"></a>\n",
        "## Importing packages"
      ],
      "id": "w6mhGOm_ruAu"
    },
    {
      "cell_type": "code",
      "metadata": {
        "id": "1d92fa99",
        "outputId": "7a5c58bc-8105-4451-c9ab-c8e38a849115",
        "colab": {
          "base_uri": "https://localhost:8080/"
        }
      },
      "source": [
        "# Libraries for data loading, data manipulation and data visulisation\n",
        "import numpy as np\n",
        "import pandas as pd\n",
        "#\n",
        "import string\n",
        "import matplotlib.pyplot as plt\n",
        "from matplotlib import rc\n",
        "import seaborn as sns\n",
        "from statsmodels.graphics.correlation import plot_corr\n",
        "from scipy.stats import skew\n",
        "from scipy.stats import kurtosis\n",
        "import statistics\n",
        "\n",
        "# datetime\n",
        "import datetime\n",
        "\n",
        "# Libraries for data preparation and model building\n",
        "from sklearn.pipeline import Pipeline\n",
        "import statsmodels.formula.api as sm\n",
        "from statsmodels.formula.api import ols\n",
        "from sklearn import metrics\n",
        "from sklearn.svm import SVC\n",
        "from sklearn.model_selection import train_test_split, GridSearchCV\n",
        "from sklearn.linear_model import LogisticRegression\n",
        "from sklearn.tree import DecisionTreeClassifier\n",
        "from sklearn.metrics import f1_score, precision_score, recall_score, confusion_matrix, accuracy_score\n",
        "from sklearn.model_selection import cross_val_score\n",
        "from sklearn.model_selection import RepeatedKFold\n",
        "from sklearn.feature_selection import RFE\n",
        "from sklearn.feature_selection import RFECV\n",
        "from sklearn.feature_selection import SelectKBest, chi2\n",
        "from sklearn.feature_extraction.text import CountVectorizer\n",
        "from scipy.stats import boxcox, zscore\n",
        "from sklearn.metrics import mean_squared_error\n",
        "from sklearn.tree import DecisionTreeRegressor\n",
        "from sklearn.compose import ColumnTransformer\n",
        "from sklearn.ensemble import RandomForestClassifier\n",
        "from sklearn.model_selection import train_test_split, KFold, cross_val_score, GridSearchCV\n",
        "from sklearn.preprocessing import LabelEncoder, OneHotEncoder, StandardScaler, PolynomialFeatures\n",
        "\n",
        "# saving my model\n",
        "import pickle\n",
        "\n",
        "#ignoring warnings\n",
        "import warnings\n",
        "warnings.filterwarnings('ignore')\n"
      ],
      "id": "1d92fa99",
      "execution_count": 2,
      "outputs": [
        {
          "output_type": "stream",
          "name": "stderr",
          "text": [
            "/usr/local/lib/python3.7/dist-packages/statsmodels/tools/_testing.py:19: FutureWarning: pandas.util.testing is deprecated. Use the functions in the public API at pandas.testing instead.\n",
            "  import pandas.util.testing as tm\n"
          ]
        }
      ]
    },
    {
      "cell_type": "code",
      "metadata": {
        "id": "7d571bf8"
      },
      "source": [
        "#making sure that we can see all rows and cols\n",
        "pd.set_option('display.max_columns', None)\n",
        "pd.set_option('display.max_rows', None)\n",
        "pd.set_option('display.max_colwidth', None)"
      ],
      "id": "7d571bf8",
      "execution_count": 3,
      "outputs": []
    },
    {
      "cell_type": "markdown",
      "metadata": {
        "id": "tpo3UIMrsO7x"
      },
      "source": [
        "<a id=\"two\"></a>\n",
        "## Loading the Data"
      ],
      "id": "tpo3UIMrsO7x"
    },
    {
      "cell_type": "code",
      "metadata": {
        "id": "f0fc67ae",
        "outputId": "66b231e0-03f9-4518-a576-765e9a8183d1",
        "colab": {
          "base_uri": "https://localhost:8080/",
          "height": 415
        }
      },
      "source": [
        "# importing datasets\n",
        "df_train = pd.read_csv('/content/sample_data/train.csv')\n",
        "df_test = pd.read_csv('/content/sample_data/test_with_no_labels.csv')"
      ],
      "id": "f0fc67ae",
      "execution_count": 4,
      "outputs": [
        {
          "output_type": "error",
          "ename": "FileNotFoundError",
          "evalue": "ignored",
          "traceback": [
            "\u001b[0;31m---------------------------------------------------------------------------\u001b[0m",
            "\u001b[0;31mFileNotFoundError\u001b[0m                         Traceback (most recent call last)",
            "\u001b[0;32m<ipython-input-4-717467d75106>\u001b[0m in \u001b[0;36m<module>\u001b[0;34m()\u001b[0m\n\u001b[1;32m      1\u001b[0m \u001b[0;31m# importing datasets\u001b[0m\u001b[0;34m\u001b[0m\u001b[0;34m\u001b[0m\u001b[0;34m\u001b[0m\u001b[0m\n\u001b[0;32m----> 2\u001b[0;31m \u001b[0mdf_train\u001b[0m \u001b[0;34m=\u001b[0m \u001b[0mpd\u001b[0m\u001b[0;34m.\u001b[0m\u001b[0mread_csv\u001b[0m\u001b[0;34m(\u001b[0m\u001b[0;34m'/content/sample_data/train.csv'\u001b[0m\u001b[0;34m)\u001b[0m\u001b[0;34m\u001b[0m\u001b[0;34m\u001b[0m\u001b[0m\n\u001b[0m\u001b[1;32m      3\u001b[0m \u001b[0mdf_test\u001b[0m \u001b[0;34m=\u001b[0m \u001b[0mpd\u001b[0m\u001b[0;34m.\u001b[0m\u001b[0mread_csv\u001b[0m\u001b[0;34m(\u001b[0m\u001b[0;34m'/content/sample_data/test_with_no_labels.csv'\u001b[0m\u001b[0;34m)\u001b[0m\u001b[0;34m\u001b[0m\u001b[0;34m\u001b[0m\u001b[0m\n",
            "\u001b[0;32m/usr/local/lib/python3.7/dist-packages/pandas/io/parsers.py\u001b[0m in \u001b[0;36mread_csv\u001b[0;34m(filepath_or_buffer, sep, delimiter, header, names, index_col, usecols, squeeze, prefix, mangle_dupe_cols, dtype, engine, converters, true_values, false_values, skipinitialspace, skiprows, skipfooter, nrows, na_values, keep_default_na, na_filter, verbose, skip_blank_lines, parse_dates, infer_datetime_format, keep_date_col, date_parser, dayfirst, cache_dates, iterator, chunksize, compression, thousands, decimal, lineterminator, quotechar, quoting, doublequote, escapechar, comment, encoding, dialect, error_bad_lines, warn_bad_lines, delim_whitespace, low_memory, memory_map, float_precision)\u001b[0m\n\u001b[1;32m    686\u001b[0m     )\n\u001b[1;32m    687\u001b[0m \u001b[0;34m\u001b[0m\u001b[0m\n\u001b[0;32m--> 688\u001b[0;31m     \u001b[0;32mreturn\u001b[0m \u001b[0m_read\u001b[0m\u001b[0;34m(\u001b[0m\u001b[0mfilepath_or_buffer\u001b[0m\u001b[0;34m,\u001b[0m \u001b[0mkwds\u001b[0m\u001b[0;34m)\u001b[0m\u001b[0;34m\u001b[0m\u001b[0;34m\u001b[0m\u001b[0m\n\u001b[0m\u001b[1;32m    689\u001b[0m \u001b[0;34m\u001b[0m\u001b[0m\n\u001b[1;32m    690\u001b[0m \u001b[0;34m\u001b[0m\u001b[0m\n",
            "\u001b[0;32m/usr/local/lib/python3.7/dist-packages/pandas/io/parsers.py\u001b[0m in \u001b[0;36m_read\u001b[0;34m(filepath_or_buffer, kwds)\u001b[0m\n\u001b[1;32m    452\u001b[0m \u001b[0;34m\u001b[0m\u001b[0m\n\u001b[1;32m    453\u001b[0m     \u001b[0;31m# Create the parser.\u001b[0m\u001b[0;34m\u001b[0m\u001b[0;34m\u001b[0m\u001b[0;34m\u001b[0m\u001b[0m\n\u001b[0;32m--> 454\u001b[0;31m     \u001b[0mparser\u001b[0m \u001b[0;34m=\u001b[0m \u001b[0mTextFileReader\u001b[0m\u001b[0;34m(\u001b[0m\u001b[0mfp_or_buf\u001b[0m\u001b[0;34m,\u001b[0m \u001b[0;34m**\u001b[0m\u001b[0mkwds\u001b[0m\u001b[0;34m)\u001b[0m\u001b[0;34m\u001b[0m\u001b[0;34m\u001b[0m\u001b[0m\n\u001b[0m\u001b[1;32m    455\u001b[0m \u001b[0;34m\u001b[0m\u001b[0m\n\u001b[1;32m    456\u001b[0m     \u001b[0;32mif\u001b[0m \u001b[0mchunksize\u001b[0m \u001b[0;32mor\u001b[0m \u001b[0miterator\u001b[0m\u001b[0;34m:\u001b[0m\u001b[0;34m\u001b[0m\u001b[0;34m\u001b[0m\u001b[0m\n",
            "\u001b[0;32m/usr/local/lib/python3.7/dist-packages/pandas/io/parsers.py\u001b[0m in \u001b[0;36m__init__\u001b[0;34m(self, f, engine, **kwds)\u001b[0m\n\u001b[1;32m    946\u001b[0m             \u001b[0mself\u001b[0m\u001b[0;34m.\u001b[0m\u001b[0moptions\u001b[0m\u001b[0;34m[\u001b[0m\u001b[0;34m\"has_index_names\"\u001b[0m\u001b[0;34m]\u001b[0m \u001b[0;34m=\u001b[0m \u001b[0mkwds\u001b[0m\u001b[0;34m[\u001b[0m\u001b[0;34m\"has_index_names\"\u001b[0m\u001b[0;34m]\u001b[0m\u001b[0;34m\u001b[0m\u001b[0;34m\u001b[0m\u001b[0m\n\u001b[1;32m    947\u001b[0m \u001b[0;34m\u001b[0m\u001b[0m\n\u001b[0;32m--> 948\u001b[0;31m         \u001b[0mself\u001b[0m\u001b[0;34m.\u001b[0m\u001b[0m_make_engine\u001b[0m\u001b[0;34m(\u001b[0m\u001b[0mself\u001b[0m\u001b[0;34m.\u001b[0m\u001b[0mengine\u001b[0m\u001b[0;34m)\u001b[0m\u001b[0;34m\u001b[0m\u001b[0;34m\u001b[0m\u001b[0m\n\u001b[0m\u001b[1;32m    949\u001b[0m \u001b[0;34m\u001b[0m\u001b[0m\n\u001b[1;32m    950\u001b[0m     \u001b[0;32mdef\u001b[0m \u001b[0mclose\u001b[0m\u001b[0;34m(\u001b[0m\u001b[0mself\u001b[0m\u001b[0;34m)\u001b[0m\u001b[0;34m:\u001b[0m\u001b[0;34m\u001b[0m\u001b[0;34m\u001b[0m\u001b[0m\n",
            "\u001b[0;32m/usr/local/lib/python3.7/dist-packages/pandas/io/parsers.py\u001b[0m in \u001b[0;36m_make_engine\u001b[0;34m(self, engine)\u001b[0m\n\u001b[1;32m   1178\u001b[0m     \u001b[0;32mdef\u001b[0m \u001b[0m_make_engine\u001b[0m\u001b[0;34m(\u001b[0m\u001b[0mself\u001b[0m\u001b[0;34m,\u001b[0m \u001b[0mengine\u001b[0m\u001b[0;34m=\u001b[0m\u001b[0;34m\"c\"\u001b[0m\u001b[0;34m)\u001b[0m\u001b[0;34m:\u001b[0m\u001b[0;34m\u001b[0m\u001b[0;34m\u001b[0m\u001b[0m\n\u001b[1;32m   1179\u001b[0m         \u001b[0;32mif\u001b[0m \u001b[0mengine\u001b[0m \u001b[0;34m==\u001b[0m \u001b[0;34m\"c\"\u001b[0m\u001b[0;34m:\u001b[0m\u001b[0;34m\u001b[0m\u001b[0;34m\u001b[0m\u001b[0m\n\u001b[0;32m-> 1180\u001b[0;31m             \u001b[0mself\u001b[0m\u001b[0;34m.\u001b[0m\u001b[0m_engine\u001b[0m \u001b[0;34m=\u001b[0m \u001b[0mCParserWrapper\u001b[0m\u001b[0;34m(\u001b[0m\u001b[0mself\u001b[0m\u001b[0;34m.\u001b[0m\u001b[0mf\u001b[0m\u001b[0;34m,\u001b[0m \u001b[0;34m**\u001b[0m\u001b[0mself\u001b[0m\u001b[0;34m.\u001b[0m\u001b[0moptions\u001b[0m\u001b[0;34m)\u001b[0m\u001b[0;34m\u001b[0m\u001b[0;34m\u001b[0m\u001b[0m\n\u001b[0m\u001b[1;32m   1181\u001b[0m         \u001b[0;32melse\u001b[0m\u001b[0;34m:\u001b[0m\u001b[0;34m\u001b[0m\u001b[0;34m\u001b[0m\u001b[0m\n\u001b[1;32m   1182\u001b[0m             \u001b[0;32mif\u001b[0m \u001b[0mengine\u001b[0m \u001b[0;34m==\u001b[0m \u001b[0;34m\"python\"\u001b[0m\u001b[0;34m:\u001b[0m\u001b[0;34m\u001b[0m\u001b[0;34m\u001b[0m\u001b[0m\n",
            "\u001b[0;32m/usr/local/lib/python3.7/dist-packages/pandas/io/parsers.py\u001b[0m in \u001b[0;36m__init__\u001b[0;34m(self, src, **kwds)\u001b[0m\n\u001b[1;32m   2008\u001b[0m         \u001b[0mkwds\u001b[0m\u001b[0;34m[\u001b[0m\u001b[0;34m\"usecols\"\u001b[0m\u001b[0;34m]\u001b[0m \u001b[0;34m=\u001b[0m \u001b[0mself\u001b[0m\u001b[0;34m.\u001b[0m\u001b[0musecols\u001b[0m\u001b[0;34m\u001b[0m\u001b[0;34m\u001b[0m\u001b[0m\n\u001b[1;32m   2009\u001b[0m \u001b[0;34m\u001b[0m\u001b[0m\n\u001b[0;32m-> 2010\u001b[0;31m         \u001b[0mself\u001b[0m\u001b[0;34m.\u001b[0m\u001b[0m_reader\u001b[0m \u001b[0;34m=\u001b[0m \u001b[0mparsers\u001b[0m\u001b[0;34m.\u001b[0m\u001b[0mTextReader\u001b[0m\u001b[0;34m(\u001b[0m\u001b[0msrc\u001b[0m\u001b[0;34m,\u001b[0m \u001b[0;34m**\u001b[0m\u001b[0mkwds\u001b[0m\u001b[0;34m)\u001b[0m\u001b[0;34m\u001b[0m\u001b[0;34m\u001b[0m\u001b[0m\n\u001b[0m\u001b[1;32m   2011\u001b[0m         \u001b[0mself\u001b[0m\u001b[0;34m.\u001b[0m\u001b[0munnamed_cols\u001b[0m \u001b[0;34m=\u001b[0m \u001b[0mself\u001b[0m\u001b[0;34m.\u001b[0m\u001b[0m_reader\u001b[0m\u001b[0;34m.\u001b[0m\u001b[0munnamed_cols\u001b[0m\u001b[0;34m\u001b[0m\u001b[0;34m\u001b[0m\u001b[0m\n\u001b[1;32m   2012\u001b[0m \u001b[0;34m\u001b[0m\u001b[0m\n",
            "\u001b[0;32mpandas/_libs/parsers.pyx\u001b[0m in \u001b[0;36mpandas._libs.parsers.TextReader.__cinit__\u001b[0;34m()\u001b[0m\n",
            "\u001b[0;32mpandas/_libs/parsers.pyx\u001b[0m in \u001b[0;36mpandas._libs.parsers.TextReader._setup_parser_source\u001b[0;34m()\u001b[0m\n",
            "\u001b[0;31mFileNotFoundError\u001b[0m: [Errno 2] No such file or directory: '/content/sample_data/train.csv'"
          ]
        }
      ]
    },
    {
      "cell_type": "markdown",
      "metadata": {
        "id": "BNtL2c5hsUkV"
      },
      "source": [
        "### Overview of the datasets\n",
        "\n",
        "Each tweet is labelled as one of the following classes:\n",
        "\n",
        "- [2]  News: the tweet links to factual news about climate change\n",
        "- [1]  Pro: the tweet supports the belief of man-made climate change\n",
        "- [0]  Neutral: the tweet neither supports nor refutes the belief of man-made climate change\n",
        "- [-1] Anti: the tweet does not believe in man-made climate change"
      ],
      "id": "BNtL2c5hsUkV"
    },
    {
      "cell_type": "code",
      "metadata": {
        "id": "51hZE7l7w8bD"
      },
      "source": [
        "#Checking df_train dataset head\n",
        "display(df_train.head())\n",
        "\n",
        "#Checking df_train dataset information\n",
        "df_train.info()"
      ],
      "id": "51hZE7l7w8bD",
      "execution_count": null,
      "outputs": []
    },
    {
      "cell_type": "markdown",
      "metadata": {
        "id": "achN_3FHw-SH"
      },
      "source": [
        "- The dataset has 15819 entries and 3 variables that do not have null values. There are two interger variables and one object variable."
      ],
      "id": "achN_3FHw-SH"
    },
    {
      "cell_type": "code",
      "metadata": {
        "id": "8aqpPklOxEJo"
      },
      "source": [
        "#Checking df_test dataset head\n",
        "display(df_test.head())\n",
        "\n",
        "#Checking df_test dataset information\n",
        "df_test.info()"
      ],
      "id": "8aqpPklOxEJo",
      "execution_count": null,
      "outputs": []
    },
    {
      "cell_type": "markdown",
      "metadata": {
        "id": "uiBZrvoRxIoI"
      },
      "source": [
        "- The dataset has 10546 entries and 2 variables that do not have null values. There is one interger variables and one object variable."
      ],
      "id": "uiBZrvoRxIoI"
    },
    {
      "cell_type": "markdown",
      "metadata": {
        "id": "WfYQAh9p224U"
      },
      "source": [
        "<a id=\"three\"></a>\n",
        "## Data Preprocessing"
      ],
      "id": "WfYQAh9p224U"
    },
    {
      "cell_type": "code",
      "metadata": {
        "id": "e4c39a23"
      },
      "source": [
        "pattern_url = r'http[s]?://(?:[A-Za-z]|[0-9]|[$-_@.&+]|[!*\\(\\),]|(?:%[0-9A-Fa-f][0-9A-Fa-f]))+'\n",
        "subs_url = ''\n",
        "df_train['message'] = df_train['message'].replace(to_replace = pattern_url, value = subs_url, regex = True)"
      ],
      "id": "e4c39a23",
      "execution_count": null,
      "outputs": []
    },
    {
      "cell_type": "code",
      "metadata": {
        "id": "zloD9rWxYZxO"
      },
      "source": [
        "df_test['message'] = df_test['message'].replace(to_replace = pattern_url, value = subs_url, regex = True)"
      ],
      "id": "zloD9rWxYZxO",
      "execution_count": null,
      "outputs": []
    },
    {
      "cell_type": "code",
      "metadata": {
        "id": "ec70279e"
      },
      "source": [
        "def lower_case(df, column_name):\n",
        "    \n",
        "    df[column_name] = df[column_name].str.lower()\n",
        "    \n",
        "    return df"
      ],
      "id": "ec70279e",
      "execution_count": null,
      "outputs": []
    },
    {
      "cell_type": "code",
      "metadata": {
        "id": "0bf66c02",
        "colab": {
          "base_uri": "https://localhost:8080/",
          "height": 241
        },
        "outputId": "33f86249-da28-4eb5-d830-e21686341343"
      },
      "source": [
        "lower_case(df_train, 'message').head()"
      ],
      "id": "0bf66c02",
      "execution_count": null,
      "outputs": [
        {
          "output_type": "execute_result",
          "data": {
            "text/html": [
              "<div>\n",
              "<style scoped>\n",
              "    .dataframe tbody tr th:only-of-type {\n",
              "        vertical-align: middle;\n",
              "    }\n",
              "\n",
              "    .dataframe tbody tr th {\n",
              "        vertical-align: top;\n",
              "    }\n",
              "\n",
              "    .dataframe thead th {\n",
              "        text-align: right;\n",
              "    }\n",
              "</style>\n",
              "<table border=\"1\" class=\"dataframe\">\n",
              "  <thead>\n",
              "    <tr style=\"text-align: right;\">\n",
              "      <th></th>\n",
              "      <th>sentiment</th>\n",
              "      <th>message</th>\n",
              "      <th>tweetid</th>\n",
              "    </tr>\n",
              "  </thead>\n",
              "  <tbody>\n",
              "    <tr>\n",
              "      <th>0</th>\n",
              "      <td>1</td>\n",
              "      <td>polyscimajor epa chief doesn't think carbon dioxide is main cause of global warming and.. wait, what!?  via @mashable</td>\n",
              "      <td>625221</td>\n",
              "    </tr>\n",
              "    <tr>\n",
              "      <th>1</th>\n",
              "      <td>1</td>\n",
              "      <td>it's not like we lack evidence of anthropogenic global warming</td>\n",
              "      <td>126103</td>\n",
              "    </tr>\n",
              "    <tr>\n",
              "      <th>2</th>\n",
              "      <td>2</td>\n",
              "      <td>rt @rawstory: researchers say we have three years to act on climate change before it’s too late  …</td>\n",
              "      <td>698562</td>\n",
              "    </tr>\n",
              "    <tr>\n",
              "      <th>3</th>\n",
              "      <td>1</td>\n",
              "      <td>#todayinmaker# wired : 2016 was a pivotal year in the war on climate change</td>\n",
              "      <td>573736</td>\n",
              "    </tr>\n",
              "    <tr>\n",
              "      <th>4</th>\n",
              "      <td>1</td>\n",
              "      <td>rt @soynoviodetodas: it's 2016, and a racist, sexist, climate change denying bigot is leading in the polls. #electionnight</td>\n",
              "      <td>466954</td>\n",
              "    </tr>\n",
              "  </tbody>\n",
              "</table>\n",
              "</div>"
            ],
            "text/plain": [
              "   sentiment  \\\n",
              "0          1   \n",
              "1          1   \n",
              "2          2   \n",
              "3          1   \n",
              "4          1   \n",
              "\n",
              "                                                                                                                      message  \\\n",
              "0       polyscimajor epa chief doesn't think carbon dioxide is main cause of global warming and.. wait, what!?  via @mashable   \n",
              "1                                                              it's not like we lack evidence of anthropogenic global warming   \n",
              "2                          rt @rawstory: researchers say we have three years to act on climate change before it’s too late  …   \n",
              "3                                                #todayinmaker# wired : 2016 was a pivotal year in the war on climate change    \n",
              "4  rt @soynoviodetodas: it's 2016, and a racist, sexist, climate change denying bigot is leading in the polls. #electionnight   \n",
              "\n",
              "   tweetid  \n",
              "0   625221  \n",
              "1   126103  \n",
              "2   698562  \n",
              "3   573736  \n",
              "4   466954  "
            ]
          },
          "metadata": {},
          "execution_count": 82
        }
      ]
    },
    {
      "cell_type": "code",
      "metadata": {
        "colab": {
          "base_uri": "https://localhost:8080/",
          "height": 223
        },
        "id": "zYydLlZfYGrn",
        "outputId": "b54f88fd-60a0-4b3a-c78c-d8713a2c4b9a"
      },
      "source": [
        "lower_case(df_test,'message').head()"
      ],
      "id": "zYydLlZfYGrn",
      "execution_count": null,
      "outputs": [
        {
          "output_type": "execute_result",
          "data": {
            "text/html": [
              "<div>\n",
              "<style scoped>\n",
              "    .dataframe tbody tr th:only-of-type {\n",
              "        vertical-align: middle;\n",
              "    }\n",
              "\n",
              "    .dataframe tbody tr th {\n",
              "        vertical-align: top;\n",
              "    }\n",
              "\n",
              "    .dataframe thead th {\n",
              "        text-align: right;\n",
              "    }\n",
              "</style>\n",
              "<table border=\"1\" class=\"dataframe\">\n",
              "  <thead>\n",
              "    <tr style=\"text-align: right;\">\n",
              "      <th></th>\n",
              "      <th>message</th>\n",
              "      <th>tweetid</th>\n",
              "    </tr>\n",
              "  </thead>\n",
              "  <tbody>\n",
              "    <tr>\n",
              "      <th>0</th>\n",
              "      <td>europe will now be looking to china to make sure that it is not alone in fighting climate change…</td>\n",
              "      <td>169760</td>\n",
              "    </tr>\n",
              "    <tr>\n",
              "      <th>1</th>\n",
              "      <td>combine this with the polling of staffers re climate change and womens' rights and you have a fascist state.</td>\n",
              "      <td>35326</td>\n",
              "    </tr>\n",
              "    <tr>\n",
              "      <th>2</th>\n",
              "      <td>the scary, unimpeachable evidence that climate change is already here:  #itstimetochange #climatechange @zeroco2_;..</td>\n",
              "      <td>224985</td>\n",
              "    </tr>\n",
              "    <tr>\n",
              "      <th>3</th>\n",
              "      <td>@karoli @morgfair @osborneink @dailykos \\nputin got to you too jill ! \\ntrump doesn't believe in climate change at all \\nthinks it's s hoax</td>\n",
              "      <td>476263</td>\n",
              "    </tr>\n",
              "    <tr>\n",
              "      <th>4</th>\n",
              "      <td>rt @fakewillmoore: 'female orgasms cause global warming!'\\n-sarcastic republican</td>\n",
              "      <td>872928</td>\n",
              "    </tr>\n",
              "  </tbody>\n",
              "</table>\n",
              "</div>"
            ],
            "text/plain": [
              "                                                                                                                                       message  \\\n",
              "0                                           europe will now be looking to china to make sure that it is not alone in fighting climate change…    \n",
              "1                                combine this with the polling of staffers re climate change and womens' rights and you have a fascist state.    \n",
              "2                         the scary, unimpeachable evidence that climate change is already here:  #itstimetochange #climatechange @zeroco2_;..   \n",
              "3  @karoli @morgfair @osborneink @dailykos \\nputin got to you too jill ! \\ntrump doesn't believe in climate change at all \\nthinks it's s hoax   \n",
              "4                                                             rt @fakewillmoore: 'female orgasms cause global warming!'\\n-sarcastic republican   \n",
              "\n",
              "   tweetid  \n",
              "0   169760  \n",
              "1    35326  \n",
              "2   224985  \n",
              "3   476263  \n",
              "4   872928  "
            ]
          },
          "metadata": {},
          "execution_count": 84
        }
      ]
    },
    {
      "cell_type": "code",
      "metadata": {
        "id": "8f1bc75a"
      },
      "source": [
        "def lookup_dict(text, dictionary):\n",
        "    \n",
        "    for word in text.split():\n",
        "        \n",
        "        if word in dictionary:\n",
        "            \n",
        "            if word in text.split():\n",
        "                \n",
        "                text = text.replace(word, dictionary[word])\n",
        "                \n",
        "    return text"
      ],
      "id": "8f1bc75a",
      "execution_count": null,
      "outputs": []
    },
    {
      "cell_type": "code",
      "metadata": {
        "id": "5c7a6c88"
      },
      "source": [
        "contractions = {\"doesn't\" : 'does not',\"wouldn't\": \"would not\",\"it's\" : 'it is',\n",
        "               \"i'm\": \"i am\", \"we're\" : 'we are',\"i've\":'i have',\"let's\" : 'let us',\n",
        "               \"couldn't\" : 'could not',\"don't\" : 'do not', 'lol' : 'laugh out loud',\n",
        "               'ftl': 'for the loss', 'fwiw': 'for what it is worth', 'imo' : 'in my opinion',\n",
        "               'diaf': 'die in a fire','dm': 'direct message', 'afaik':'as far as i know',\n",
        "               'imho': 'in my humble opinion', 'tbh': 'to be honest','icymi': 'in case you missed it',\n",
        "               'idk': 'i do not know', 'mt': 'modified tweet', 'smh':'shaking my head',\n",
        "               'smdh':'shaking my damn head','nts':'note to self','ifykyk':'if you know, you know',\n",
        "               'ijs':'i am just saying', 'tbqh':'to be quite honest','fyi':'for your information',\n",
        "               'idc':'i do not care','hth':'happy to help', 'hth':'hear to help','hifw':'how i feel when',\n",
        "               \"we've\":'we have',\"i'd\":'i would', \"i'll\":\"i will\",'rt':''}"
      ],
      "id": "5c7a6c88",
      "execution_count": null,
      "outputs": []
    },
    {
      "cell_type": "code",
      "metadata": {
        "id": "2049a0f9"
      },
      "source": [
        "df_train['clean_message'] = df_train['message'].apply(lambda x: lookup_dict(x, contractions))"
      ],
      "id": "2049a0f9",
      "execution_count": null,
      "outputs": []
    },
    {
      "cell_type": "code",
      "metadata": {
        "id": "qVe-GwvpX8oV"
      },
      "source": [
        "df_test['clean_message'] = df_test['message'].apply(lambda x: lookup_dict(x, contractions))"
      ],
      "id": "qVe-GwvpX8oV",
      "execution_count": null,
      "outputs": []
    },
    {
      "cell_type": "code",
      "metadata": {
        "id": "9d3f2af7",
        "colab": {
          "base_uri": "https://localhost:8080/",
          "height": 327
        },
        "outputId": "788b86e5-2f57-497e-d6b2-0b972368d16e"
      },
      "source": [
        "df_train.head()"
      ],
      "id": "9d3f2af7",
      "execution_count": null,
      "outputs": [
        {
          "output_type": "execute_result",
          "data": {
            "text/html": [
              "<div>\n",
              "<style scoped>\n",
              "    .dataframe tbody tr th:only-of-type {\n",
              "        vertical-align: middle;\n",
              "    }\n",
              "\n",
              "    .dataframe tbody tr th {\n",
              "        vertical-align: top;\n",
              "    }\n",
              "\n",
              "    .dataframe thead th {\n",
              "        text-align: right;\n",
              "    }\n",
              "</style>\n",
              "<table border=\"1\" class=\"dataframe\">\n",
              "  <thead>\n",
              "    <tr style=\"text-align: right;\">\n",
              "      <th></th>\n",
              "      <th>sentiment</th>\n",
              "      <th>message</th>\n",
              "      <th>tweetid</th>\n",
              "      <th>clean_message</th>\n",
              "    </tr>\n",
              "  </thead>\n",
              "  <tbody>\n",
              "    <tr>\n",
              "      <th>0</th>\n",
              "      <td>1</td>\n",
              "      <td>polyscimajor epa chief doesn't think carbon dioxide is main cause of global warming and.. wait, what!?  via @mashable</td>\n",
              "      <td>625221</td>\n",
              "      <td>polyscimajor epa chief does not think carbon dioxide is main cause of global warming and.. wait, what!?  via @mashable</td>\n",
              "    </tr>\n",
              "    <tr>\n",
              "      <th>1</th>\n",
              "      <td>1</td>\n",
              "      <td>it's not like we lack evidence of anthropogenic global warming</td>\n",
              "      <td>126103</td>\n",
              "      <td>it is not like we lack evidence of anthropogenic global warming</td>\n",
              "    </tr>\n",
              "    <tr>\n",
              "      <th>2</th>\n",
              "      <td>2</td>\n",
              "      <td>rt @rawstory: researchers say we have three years to act on climate change before it’s too late  …</td>\n",
              "      <td>698562</td>\n",
              "      <td>@rawstory: researchers say we have three years to act on climate change before it’s too late  …</td>\n",
              "    </tr>\n",
              "    <tr>\n",
              "      <th>3</th>\n",
              "      <td>1</td>\n",
              "      <td>#todayinmaker# wired : 2016 was a pivotal year in the war on climate change</td>\n",
              "      <td>573736</td>\n",
              "      <td>#todayinmaker# wired : 2016 was a pivotal year in the war on climate change</td>\n",
              "    </tr>\n",
              "    <tr>\n",
              "      <th>4</th>\n",
              "      <td>1</td>\n",
              "      <td>rt @soynoviodetodas: it's 2016, and a racist, sexist, climate change denying bigot is leading in the polls. #electionnight</td>\n",
              "      <td>466954</td>\n",
              "      <td>@soynoviodetodas: it is 2016, and a racist, sexist, climate change denying bigot is leading in the polls. #electionnight</td>\n",
              "    </tr>\n",
              "  </tbody>\n",
              "</table>\n",
              "</div>"
            ],
            "text/plain": [
              "   sentiment  \\\n",
              "0          1   \n",
              "1          1   \n",
              "2          2   \n",
              "3          1   \n",
              "4          1   \n",
              "\n",
              "                                                                                                                      message  \\\n",
              "0       polyscimajor epa chief doesn't think carbon dioxide is main cause of global warming and.. wait, what!?  via @mashable   \n",
              "1                                                              it's not like we lack evidence of anthropogenic global warming   \n",
              "2                          rt @rawstory: researchers say we have three years to act on climate change before it’s too late  …   \n",
              "3                                                #todayinmaker# wired : 2016 was a pivotal year in the war on climate change    \n",
              "4  rt @soynoviodetodas: it's 2016, and a racist, sexist, climate change denying bigot is leading in the polls. #electionnight   \n",
              "\n",
              "   tweetid  \\\n",
              "0   625221   \n",
              "1   126103   \n",
              "2   698562   \n",
              "3   573736   \n",
              "4   466954   \n",
              "\n",
              "                                                                                                               clean_message  \n",
              "0     polyscimajor epa chief does not think carbon dioxide is main cause of global warming and.. wait, what!?  via @mashable  \n",
              "1                                                            it is not like we lack evidence of anthropogenic global warming  \n",
              "2                            @rawstory: researchers say we have three years to act on climate change before it’s too late  …  \n",
              "3                                               #todayinmaker# wired : 2016 was a pivotal year in the war on climate change   \n",
              "4   @soynoviodetodas: it is 2016, and a racist, sexist, climate change denying bigot is leading in the polls. #electionnight  "
            ]
          },
          "metadata": {},
          "execution_count": 89
        }
      ]
    },
    {
      "cell_type": "code",
      "metadata": {
        "id": "71f49524",
        "colab": {
          "base_uri": "https://localhost:8080/",
          "height": 327
        },
        "outputId": "516ac1aa-e7ec-4794-94c6-31a964b82d4c"
      },
      "source": [
        "df_test.head()"
      ],
      "id": "71f49524",
      "execution_count": null,
      "outputs": [
        {
          "output_type": "execute_result",
          "data": {
            "text/html": [
              "<div>\n",
              "<style scoped>\n",
              "    .dataframe tbody tr th:only-of-type {\n",
              "        vertical-align: middle;\n",
              "    }\n",
              "\n",
              "    .dataframe tbody tr th {\n",
              "        vertical-align: top;\n",
              "    }\n",
              "\n",
              "    .dataframe thead th {\n",
              "        text-align: right;\n",
              "    }\n",
              "</style>\n",
              "<table border=\"1\" class=\"dataframe\">\n",
              "  <thead>\n",
              "    <tr style=\"text-align: right;\">\n",
              "      <th></th>\n",
              "      <th>message</th>\n",
              "      <th>tweetid</th>\n",
              "      <th>clean_message</th>\n",
              "    </tr>\n",
              "  </thead>\n",
              "  <tbody>\n",
              "    <tr>\n",
              "      <th>0</th>\n",
              "      <td>europe will now be looking to china to make sure that it is not alone in fighting climate change…</td>\n",
              "      <td>169760</td>\n",
              "      <td>europe will now be looking to china to make sure that it is not alone in fighting climate change…</td>\n",
              "    </tr>\n",
              "    <tr>\n",
              "      <th>1</th>\n",
              "      <td>combine this with the polling of staffers re climate change and womens' rights and you have a fascist state.</td>\n",
              "      <td>35326</td>\n",
              "      <td>combine this with the polling of staffers re climate change and womens' rights and you have a fascist state.</td>\n",
              "    </tr>\n",
              "    <tr>\n",
              "      <th>2</th>\n",
              "      <td>the scary, unimpeachable evidence that climate change is already here:  #itstimetochange #climatechange @zeroco2_;..</td>\n",
              "      <td>224985</td>\n",
              "      <td>the scary, unimpeachable evidence that climate change is already here:  #itstimetochange #climatechange @zeroco2_;..</td>\n",
              "    </tr>\n",
              "    <tr>\n",
              "      <th>3</th>\n",
              "      <td>@karoli @morgfair @osborneink @dailykos \\nputin got to you too jill ! \\ntrump doesn't believe in climate change at all \\nthinks it's s hoax</td>\n",
              "      <td>476263</td>\n",
              "      <td>@karoli @morgfair @osborneink @dailykos \\nputin got to you too jill ! \\ntrump does not believe in climate change at all \\nthinks it is s hoax</td>\n",
              "    </tr>\n",
              "    <tr>\n",
              "      <th>4</th>\n",
              "      <td>rt @fakewillmoore: 'female orgasms cause global warming!'\\n-sarcastic republican</td>\n",
              "      <td>872928</td>\n",
              "      <td>@fakewillmoore: 'female orgasms cause global warming!'\\n-sarcastic republican</td>\n",
              "    </tr>\n",
              "  </tbody>\n",
              "</table>\n",
              "</div>"
            ],
            "text/plain": [
              "                                                                                                                                       message  \\\n",
              "0                                           europe will now be looking to china to make sure that it is not alone in fighting climate change…    \n",
              "1                                combine this with the polling of staffers re climate change and womens' rights and you have a fascist state.    \n",
              "2                         the scary, unimpeachable evidence that climate change is already here:  #itstimetochange #climatechange @zeroco2_;..   \n",
              "3  @karoli @morgfair @osborneink @dailykos \\nputin got to you too jill ! \\ntrump doesn't believe in climate change at all \\nthinks it's s hoax   \n",
              "4                                                             rt @fakewillmoore: 'female orgasms cause global warming!'\\n-sarcastic republican   \n",
              "\n",
              "   tweetid  \\\n",
              "0   169760   \n",
              "1    35326   \n",
              "2   224985   \n",
              "3   476263   \n",
              "4   872928   \n",
              "\n",
              "                                                                                                                                   clean_message  \n",
              "0                                             europe will now be looking to china to make sure that it is not alone in fighting climate change…   \n",
              "1                                  combine this with the polling of staffers re climate change and womens' rights and you have a fascist state.   \n",
              "2                           the scary, unimpeachable evidence that climate change is already here:  #itstimetochange #climatechange @zeroco2_;..  \n",
              "3  @karoli @morgfair @osborneink @dailykos \\nputin got to you too jill ! \\ntrump does not believe in climate change at all \\nthinks it is s hoax  \n",
              "4                                                                  @fakewillmoore: 'female orgasms cause global warming!'\\n-sarcastic republican  "
            ]
          },
          "metadata": {},
          "execution_count": 90
        }
      ]
    },
    {
      "cell_type": "code",
      "metadata": {
        "id": "846bd6f5"
      },
      "source": [
        "def remove_punctuation(message):\n",
        "    return ''.join([l for l in message if l not in string.punctuation])"
      ],
      "id": "846bd6f5",
      "execution_count": null,
      "outputs": []
    },
    {
      "cell_type": "code",
      "metadata": {
        "id": "5a1dbbd7"
      },
      "source": [
        "df_train['clean_message'] = df_train['clean_message'].apply(remove_punctuation)"
      ],
      "id": "5a1dbbd7",
      "execution_count": null,
      "outputs": []
    },
    {
      "cell_type": "code",
      "metadata": {
        "id": "32WqiEu6XzEV"
      },
      "source": [
        "df_test['clean_message'] = df_test['clean_message'].apply(remove_punctuation)"
      ],
      "id": "32WqiEu6XzEV",
      "execution_count": null,
      "outputs": []
    },
    {
      "cell_type": "code",
      "metadata": {
        "id": "cd0a2c29",
        "colab": {
          "base_uri": "https://localhost:8080/",
          "height": 327
        },
        "outputId": "a8fda90e-f2da-42c1-ff49-a9c404d68108"
      },
      "source": [
        "df_test.head()"
      ],
      "id": "cd0a2c29",
      "execution_count": null,
      "outputs": [
        {
          "output_type": "execute_result",
          "data": {
            "text/html": [
              "<div>\n",
              "<style scoped>\n",
              "    .dataframe tbody tr th:only-of-type {\n",
              "        vertical-align: middle;\n",
              "    }\n",
              "\n",
              "    .dataframe tbody tr th {\n",
              "        vertical-align: top;\n",
              "    }\n",
              "\n",
              "    .dataframe thead th {\n",
              "        text-align: right;\n",
              "    }\n",
              "</style>\n",
              "<table border=\"1\" class=\"dataframe\">\n",
              "  <thead>\n",
              "    <tr style=\"text-align: right;\">\n",
              "      <th></th>\n",
              "      <th>message</th>\n",
              "      <th>tweetid</th>\n",
              "      <th>clean_message</th>\n",
              "    </tr>\n",
              "  </thead>\n",
              "  <tbody>\n",
              "    <tr>\n",
              "      <th>0</th>\n",
              "      <td>europe will now be looking to china to make sure that it is not alone in fighting climate change…</td>\n",
              "      <td>169760</td>\n",
              "      <td>europe will now be looking to china to make sure that it is not alone in fighting climate change…</td>\n",
              "    </tr>\n",
              "    <tr>\n",
              "      <th>1</th>\n",
              "      <td>combine this with the polling of staffers re climate change and womens' rights and you have a fascist state.</td>\n",
              "      <td>35326</td>\n",
              "      <td>combine this with the polling of staffers re climate change and womens rights and you have a fascist state</td>\n",
              "    </tr>\n",
              "    <tr>\n",
              "      <th>2</th>\n",
              "      <td>the scary, unimpeachable evidence that climate change is already here:  #itstimetochange #climatechange @zeroco2_;..</td>\n",
              "      <td>224985</td>\n",
              "      <td>the scary unimpeachable evidence that climate change is already here  itstimetochange climatechange zeroco2</td>\n",
              "    </tr>\n",
              "    <tr>\n",
              "      <th>3</th>\n",
              "      <td>@karoli @morgfair @osborneink @dailykos \\nputin got to you too jill ! \\ntrump doesn't believe in climate change at all \\nthinks it's s hoax</td>\n",
              "      <td>476263</td>\n",
              "      <td>karoli morgfair osborneink dailykos \\nputin got to you too jill  \\ntrump does not believe in climate change at all \\nthinks it is s hoax</td>\n",
              "    </tr>\n",
              "    <tr>\n",
              "      <th>4</th>\n",
              "      <td>rt @fakewillmoore: 'female orgasms cause global warming!'\\n-sarcastic republican</td>\n",
              "      <td>872928</td>\n",
              "      <td>fakewillmoore female orgasms cause global warming\\nsarcastic republican</td>\n",
              "    </tr>\n",
              "  </tbody>\n",
              "</table>\n",
              "</div>"
            ],
            "text/plain": [
              "                                                                                                                                       message  \\\n",
              "0                                           europe will now be looking to china to make sure that it is not alone in fighting climate change…    \n",
              "1                                combine this with the polling of staffers re climate change and womens' rights and you have a fascist state.    \n",
              "2                         the scary, unimpeachable evidence that climate change is already here:  #itstimetochange #climatechange @zeroco2_;..   \n",
              "3  @karoli @morgfair @osborneink @dailykos \\nputin got to you too jill ! \\ntrump doesn't believe in climate change at all \\nthinks it's s hoax   \n",
              "4                                                             rt @fakewillmoore: 'female orgasms cause global warming!'\\n-sarcastic republican   \n",
              "\n",
              "   tweetid  \\\n",
              "0   169760   \n",
              "1    35326   \n",
              "2   224985   \n",
              "3   476263   \n",
              "4   872928   \n",
              "\n",
              "                                                                                                                              clean_message  \n",
              "0                                        europe will now be looking to china to make sure that it is not alone in fighting climate change…   \n",
              "1                               combine this with the polling of staffers re climate change and womens rights and you have a fascist state   \n",
              "2                               the scary unimpeachable evidence that climate change is already here  itstimetochange climatechange zeroco2  \n",
              "3  karoli morgfair osborneink dailykos \\nputin got to you too jill  \\ntrump does not believe in climate change at all \\nthinks it is s hoax  \n",
              "4                                                                   fakewillmoore female orgasms cause global warming\\nsarcastic republican  "
            ]
          },
          "metadata": {},
          "execution_count": 94
        }
      ]
    },
    {
      "cell_type": "code",
      "metadata": {
        "id": "363856cb"
      },
      "source": [
        "#sent_list = []\n",
        "\n",
        "#message = []\n",
        "\n",
        "#for count in range(0,len(df_train)):\n",
        "    \n",
        "#   if df_train['sentiment'][count] == 1:\n",
        "        \n",
        "#        sent_list.append(1)\n",
        "#        message.append(df_train['clean_message'][count])\n",
        "        \n",
        "#    elif df_train['sentiment'].iloc[count] == -1:\n",
        "                   \n",
        "#        sent_list.append(0)\n",
        "#        message.append(df_train['clean_message'][count])"
      ],
      "id": "363856cb",
      "execution_count": null,
      "outputs": []
    },
    {
      "cell_type": "code",
      "metadata": {
        "id": "22b82471"
      },
      "source": [
        "#dict_ = {'sentiment': sent_list,\n",
        "        'message' : message}"
      ],
      "id": "22b82471",
      "execution_count": null,
      "outputs": []
    },
    {
      "cell_type": "code",
      "metadata": {
        "id": "c12b2238"
      },
      "source": [
        "#data = pd.DataFrame(dict_)"
      ],
      "id": "c12b2238",
      "execution_count": null,
      "outputs": []
    },
    {
      "cell_type": "markdown",
      "metadata": {
        "id": "UTmnRLje3C32"
      },
      "source": [
        "<a id=\"six\"></a>\n",
        "##  Modelling"
      ],
      "id": "UTmnRLje3C32"
    },
    {
      "cell_type": "markdown",
      "metadata": {
        "id": "uwRqBRk93MwN"
      },
      "source": [
        "### Preparing for modelling"
      ],
      "id": "uwRqBRk93MwN"
    },
    {
      "cell_type": "code",
      "metadata": {
        "id": "c0667742"
      },
      "source": [
        "tweet_id = df_test.tweetid.values "
      ],
      "id": "c0667742",
      "execution_count": null,
      "outputs": []
    },
    {
      "cell_type": "code",
      "metadata": {
        "id": "d51ed57b"
      },
      "source": [
        "df = df_train.clean_message.values\n",
        "\n",
        "y = df_train.sentiment.values"
      ],
      "id": "d51ed57b",
      "execution_count": null,
      "outputs": []
    },
    {
      "cell_type": "code",
      "metadata": {
        "id": "8e8fb6a1"
      },
      "source": [
        "x_train, x_test, y_train, y_test = train_test_split(df,\n",
        "                                                    y, \n",
        "                                                   random_state = 1,\n",
        "                                                   test_size = 0.2,\n",
        "                                                   shuffle = True)"
      ],
      "id": "8e8fb6a1",
      "execution_count": null,
      "outputs": []
    },
    {
      "cell_type": "code",
      "metadata": {
        "id": "3_Vu-xk4fdnC"
      },
      "source": [
        "test_data = df_test['clean_message']"
      ],
      "id": "3_Vu-xk4fdnC",
      "execution_count": null,
      "outputs": []
    },
    {
      "cell_type": "code",
      "metadata": {
        "id": "bc91679d",
        "colab": {
          "base_uri": "https://localhost:8080/"
        },
        "outputId": "c0629aef-1c0e-4fce-f145-ad972db04c31"
      },
      "source": [
        "vectorizer = CountVectorizer(stop_words = 'english')\n",
        "\n",
        "vectorizer.fit(list(x_train) + list(x_test) + list(test_data))"
      ],
      "id": "bc91679d",
      "execution_count": null,
      "outputs": [
        {
          "output_type": "execute_result",
          "data": {
            "text/plain": [
              "CountVectorizer(stop_words='english')"
            ]
          },
          "metadata": {},
          "execution_count": 118
        }
      ]
    },
    {
      "cell_type": "code",
      "metadata": {
        "id": "7d6e78f9"
      },
      "source": [
        "X_train = vectorizer.transform(x_train)\n",
        "X_test = vectorizer.transform(x_test)\n",
        "X_test_test = vectorizer.transform(test_data)"
      ],
      "id": "7d6e78f9",
      "execution_count": null,
      "outputs": []
    },
    {
      "cell_type": "code",
      "metadata": {
        "id": "4c60463a"
      },
      "source": [
        "svm = SVC(kernel = 'linear', probability = True)\n",
        "\n",
        "prob = svm.fit(X_train,y_train).predict_proba(X_test)\n",
        "\n",
        "y_pred = svm.predict(X_test)"
      ],
      "id": "4c60463a",
      "execution_count": null,
      "outputs": []
    },
    {
      "cell_type": "code",
      "metadata": {
        "colab": {
          "base_uri": "https://localhost:8080/"
        },
        "id": "r5--LnhBUwjl",
        "outputId": "97a04b8b-2938-4fad-b325-dfc3ae6c805f"
      },
      "source": [
        "clf = LogisticRegression()\n",
        "clf.fit(X_train,y_train)"
      ],
      "id": "r5--LnhBUwjl",
      "execution_count": null,
      "outputs": [
        {
          "output_type": "execute_result",
          "data": {
            "text/plain": [
              "LogisticRegression()"
            ]
          },
          "metadata": {},
          "execution_count": 121
        }
      ]
    },
    {
      "cell_type": "code",
      "metadata": {
        "colab": {
          "base_uri": "https://localhost:8080/"
        },
        "id": "zadgJVLvW26C",
        "outputId": "7d48bf5c-0476-4cd2-b080-68c0a5f740b4"
      },
      "source": [
        "rfc = RandomForestClassifier(max_depth = 2, random_state = 0)\n",
        "rfc.fit(X_train, y_train)"
      ],
      "id": "zadgJVLvW26C",
      "execution_count": null,
      "outputs": [
        {
          "output_type": "execute_result",
          "data": {
            "text/plain": [
              "RandomForestClassifier(max_depth=2, random_state=0)"
            ]
          },
          "metadata": {},
          "execution_count": 140
        }
      ]
    },
    {
      "cell_type": "code",
      "metadata": {
        "id": "jzK2WNIDkBN9"
      },
      "source": [
        "rfc_f1 = f1_score(y_test, rfc.predict(X_test), average='macro')"
      ],
      "id": "jzK2WNIDkBN9",
      "execution_count": null,
      "outputs": []
    },
    {
      "cell_type": "code",
      "metadata": {
        "colab": {
          "base_uri": "https://localhost:8080/"
        },
        "id": "l4xhredykWYN",
        "outputId": "7cb8dd05-2c89-4f89-8914-f8ab281c0dc1"
      },
      "source": [
        "rfc_f1"
      ],
      "id": "l4xhredykWYN",
      "execution_count": null,
      "outputs": [
        {
          "output_type": "execute_result",
          "data": {
            "text/plain": [
              "0.17865122892545196"
            ]
          },
          "metadata": {},
          "execution_count": 142
        }
      ]
    },
    {
      "cell_type": "code",
      "metadata": {
        "id": "60oFYlERWLVM"
      },
      "source": [
        "clf_f1 = f1_score(y_test, clf.predict(X_test), average='macro')"
      ],
      "id": "60oFYlERWLVM",
      "execution_count": null,
      "outputs": []
    },
    {
      "cell_type": "code",
      "metadata": {
        "colab": {
          "base_uri": "https://localhost:8080/"
        },
        "id": "cUdXo2e_WXrI",
        "outputId": "4af645a7-941d-4e72-82db-ad132fedb855"
      },
      "source": [
        "clf_f1"
      ],
      "id": "cUdXo2e_WXrI",
      "execution_count": null,
      "outputs": [
        {
          "output_type": "execute_result",
          "data": {
            "text/plain": [
              "0.6380173639457858"
            ]
          },
          "metadata": {},
          "execution_count": 123
        }
      ]
    },
    {
      "cell_type": "code",
      "metadata": {
        "id": "c755a32b"
      },
      "source": [
        "svc_f1 = f1_score(y_test, y_pred, average='macro')"
      ],
      "id": "c755a32b",
      "execution_count": null,
      "outputs": []
    },
    {
      "cell_type": "code",
      "metadata": {
        "id": "ba012e68",
        "colab": {
          "base_uri": "https://localhost:8080/"
        },
        "outputId": "2b5571e8-1ef8-446d-ae84-d330cb8fecd2"
      },
      "source": [
        "kwanda"
      ],
      "id": "ba012e68",
      "execution_count": null,
      "outputs": [
        {
          "output_type": "execute_result",
          "data": {
            "text/plain": [
              "0.6240751446725404"
            ]
          },
          "metadata": {},
          "execution_count": 125
        }
      ]
    },
    {
      "cell_type": "code",
      "metadata": {
        "id": "67588701"
      },
      "source": [
        "value_lr = clf.predict(X_test_test) # 72%\n",
        "value_svc = svm.predict(X_test_test) #70%\n",
        "value_rfc = rfc.predict(X_test_test)"
      ],
      "id": "67588701",
      "execution_count": null,
      "outputs": []
    },
    {
      "cell_type": "code",
      "metadata": {
        "id": "2NFncbm2c9lp"
      },
      "source": [
        "my_dict = {'tweetid' : tweet_id,'sentiment' : value_rfc}"
      ],
      "id": "2NFncbm2c9lp",
      "execution_count": null,
      "outputs": []
    },
    {
      "cell_type": "code",
      "metadata": {
        "id": "c1b59111"
      },
      "source": [
        "results = pd.DataFrame(my_dict)"
      ],
      "id": "c1b59111",
      "execution_count": null,
      "outputs": []
    },
    {
      "cell_type": "code",
      "metadata": {
        "id": "6Jlx9ugqhaKd"
      },
      "source": [
        "results.to_csv('Team_100.csv', index = False)"
      ],
      "id": "6Jlx9ugqhaKd",
      "execution_count": null,
      "outputs": []
    }
  ]
}